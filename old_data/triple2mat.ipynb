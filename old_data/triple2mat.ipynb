{
 "cells": [
  {
   "cell_type": "markdown",
   "metadata": {},
   "source": [
    "将whole、institution、individual、momentum、reverse文件转换为矩阵形式，并存为mat文件"
   ]
  },
  {
   "cell_type": "code",
   "execution_count": 1,
   "metadata": {},
   "outputs": [],
   "source": [
    "import json\n",
    "import math\n",
    "import datetime\n",
    "import numpy as np\n",
    "import pickle\n",
    "import scipy.io as scio\n",
    "import pymysql\n",
    "\n",
    "conn = pymysql.connect(\n",
    "    host = '219.224.169.45',\n",
    "    user = 'lizimeng',\n",
    "    password = 'codegeass',\n",
    "    db = 'market',\n",
    "    charset = 'utf8'\n",
    ")\n",
    "with conn.cursor() as cursor:\n",
    "    cursor.execute(\"select day from trade_day where day between '20140101' and '20161231' order by day asc\")\n",
    "    days = [x for x, in cursor.fetchall()][1:]\n",
    "conn.close()\n",
    "\n",
    "cols = [\n",
    "    'am', 'agm', 'alm', 'apm', 'aum', 'bm', 'bbm', 'bum', 'cm', 'cfm', 'csm', 'cum', 'cym', 'erm', 'fbm', 'fgm', 'fum', 'hcm', \n",
    "    'im', 'jm', 'jdm', 'jmm', 'jrm', 'lm', 'lrm', 'mm', 'mam', 'mem', 'nim', 'oim', 'pm', 'pbm', 'pmm', 'ppm', 'rbm', 'rim', \n",
    "    'rmm', 'rom', 'rsm', 'rum', 'sfm', 'smm', 'snm', 'srm', 'tam', 'tcm', 'vm', 'whm', 'wrm', 'wsm', 'ym', 'zcm', 'znm', 'ap', \n",
    "    'agp', 'alp', 'app', 'aup', 'bp', 'bbp', 'bup', 'cp', 'cfp', 'csp', 'cup', 'cyp', 'erp', 'fbp', 'fgp', 'fup', 'hcp', 'ip', \n",
    "    'jp', 'jdp', 'jmp', 'jrp', 'lp', 'lrp', 'mp', 'map', 'mep', 'nip', 'oip', 'pp', 'pbp', 'pmp', 'ppp', 'rbp', 'rip', 'rmp', \n",
    "    'rop', 'rsp', 'rup', 'sfp', 'smp', 'snp', 'srp', 'tap', 'tcp', 'vp', 'whp', 'wrp', 'wsp', 'yp', 'zcp', 'znp', 'fund'\n",
    "]\n",
    "\n",
    "def triple2matrix(trip):\n",
    "    mat = np.zeros((len(cols), len(cols)))\n",
    "    for t in trip:\n",
    "        i = cols.index(t[0])\n",
    "        j = cols.index(t[1])\n",
    "        mat[i,j] = t[2]\n",
    "    return mat\n",
    "\n",
    "def str2date(s):\n",
    "    '''\n",
    "    yyyy-mm-dd -> datetime.date(yyyy,mm,dd)\n",
    "    '''\n",
    "    year = int(s[:4])\n",
    "    month = int(s[5:7])\n",
    "    day = int(s[8:])\n",
    "    return datetime.date(year,month,day)\n"
   ]
  },
  {
   "cell_type": "code",
   "execution_count": 3,
   "metadata": {},
   "outputs": [],
   "source": [
    "# day\n",
    "for fname in ['whole', 'institution', 'individual', 'momentum', 'reverse']:\n",
    "    tensor = np.zeros((107,107,732))\n",
    "    with open(fname, 'rb') as f:\n",
    "        i = 0\n",
    "        for cf in pickle.load(f):\n",
    "            cf = triple2matrix(cf)\n",
    "            tensor[:,:,i] += cf\n",
    "            i += 1\n",
    "    with open('%s_day.data'%fname,'wb') as f:\n",
    "        pickle.dump(tensor, f)\n"
   ]
  },
  {
   "cell_type": "code",
   "execution_count": 2,
   "metadata": {},
   "outputs": [],
   "source": [
    "# month\n",
    "for fname in ['whole', 'institution', 'individual', 'momentum', 'reverse']:\n",
    "    with open(fname,'rb') as f:\n",
    "        tensor = np.zeros((107,107,36))\n",
    "        i = 0\n",
    "        for cf in [triple2matrix(x) for x in pickle.load(f)]:\n",
    "            d = days[i]\n",
    "            tensor[:,:,(d.year-2014)*12+d.month-1] += cf\n",
    "            i += 1\n",
    "    with open('%s_month.data'%fname,'wb') as f:\n",
    "        pickle.dump(tensor, f)\n"
   ]
  },
  {
   "cell_type": "code",
   "execution_count": null,
   "metadata": {},
   "outputs": [],
   "source": [
    "# day matrix\n",
    "for fname in ['whole', 'institution', 'individual', 'momentum', 'reverse']:\n",
    "    with open(fname, 'rb') as f:\n",
    "        mat = np.zeros((107*107,732))\n",
    "        i = 0\n",
    "        for cf in pickle.load(f):\n",
    "            cf = triple2matrix(cf)\n",
    "            mat[:,i] += cf.reshape(-1)\n",
    "            i += 1\n",
    "    scio.savemat('M_' + fname + '_day.mat', {'M':mat})"
   ]
  },
  {
   "cell_type": "code",
   "execution_count": null,
   "metadata": {},
   "outputs": [],
   "source": [
    "# month matrix\n",
    "for fname in ['whole', 'institution', 'individual', 'momentum', 'reverse']:\n",
    "    with open(fname, 'rb') as f:\n",
    "        mat = np.zeros((107*107,36))\n",
    "        i = 0\n",
    "        for cf in pickle.load(f):\n",
    "            d = days[i]\n",
    "            cf = triple2matrix(cf)\n",
    "            mat[:,(d.year-2014)*12+d.month-1] += cf.reshape(-1)\n",
    "            i += 1\n",
    "    scio.savemat('M_' + fname + '_month.mat', {'M':mat})"
   ]
  },
  {
   "cell_type": "code",
   "execution_count": null,
   "metadata": {},
   "outputs": [],
   "source": [
    "# month normal\n",
    "for fname in ['whole', 'institution', 'individual', 'momentum', 'reverse']:\n",
    "    with open(fname,'rb') as f:\n",
    "        tensor = np.zeros((107,107,36))\n",
    "        i = 0\n",
    "        for cf in [triple2matrix(x) for x in pickle.load(f)]:\n",
    "            d = days[i]\n",
    "            tensor[:,:,(d.year-2014)*12+d.month-1] += cf\n",
    "            i += 1\n",
    "        for i in range(36):\n",
    "            total = np.sum(tensor[:,:,i])\n",
    "            for j in range(107):\n",
    "                for k in range(107):\n",
    "                    tensor[j,k,i] = tensor[j,k,i] / total\n",
    "    scio.savemat(fname+'_month_norm.mat', {'M':tensor})"
   ]
  },
  {
   "cell_type": "code",
   "execution_count": null,
   "metadata": {},
   "outputs": [],
   "source": [
    "# month log\n",
    "for fname in ['whole', 'institution', 'individual', 'momentum', 'reverse']:\n",
    "    with open(fname,'rb') as f:\n",
    "        tensor = np.zeros((107,107,36))\n",
    "        i = 0\n",
    "        for cf in [triple2matrix(x) for x in pickle.load(f)]:\n",
    "            d = days[i]\n",
    "            tensor[:,:,(d.year-2014)*12+d.month-1] += cf\n",
    "            i += 1\n",
    "        for i in range(36):\n",
    "            tensor[:,:,i] = np.log(tensor[:,:,i]+1)\n",
    "    scio.savemat(fname+'_month_log.mat', {'M':tensor})"
   ]
  },
  {
   "cell_type": "code",
   "execution_count": null,
   "metadata": {},
   "outputs": [],
   "source": [
    "a = np.ones((3,4))"
   ]
  },
  {
   "cell_type": "code",
   "execution_count": null,
   "metadata": {},
   "outputs": [],
   "source": [
    "a"
   ]
  },
  {
   "cell_type": "code",
   "execution_count": null,
   "metadata": {},
   "outputs": [],
   "source": [
    "a[:,1]"
   ]
  },
  {
   "cell_type": "code",
   "execution_count": null,
   "metadata": {},
   "outputs": [],
   "source": []
  }
 ],
 "metadata": {
  "kernelspec": {
   "display_name": "Python 3",
   "language": "python",
   "name": "python3"
  },
  "language_info": {
   "codemirror_mode": {
    "name": "ipython",
    "version": 3
   },
   "file_extension": ".py",
   "mimetype": "text/x-python",
   "name": "python",
   "nbconvert_exporter": "python",
   "pygments_lexer": "ipython3",
   "version": "3.6.4"
  },
  "toc": {
   "nav_menu": {},
   "number_sections": true,
   "sideBar": true,
   "skip_h1_title": false,
   "toc_cell": false,
   "toc_position": {},
   "toc_section_display": "block",
   "toc_window_display": false
  }
 },
 "nbformat": 4,
 "nbformat_minor": 2
}
