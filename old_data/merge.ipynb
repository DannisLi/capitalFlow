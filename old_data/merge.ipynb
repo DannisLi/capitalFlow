{
 "cells": [
  {
   "cell_type": "markdown",
   "metadata": {},
   "source": [
    "将数据库中的单人单日资金流动按账户合并：<br/>\n",
    "* whole 所有投资者\n",
    "* institution 所有机构投资者\n",
    "* individual 所有个人投资者\n",
    "* momentum 所有动量型\n",
    "* reverse 所有逆向型"
   ]
  },
  {
   "cell_type": "code",
   "execution_count": 1,
   "metadata": {},
   "outputs": [],
   "source": [
    "import json\n",
    "import pickle\n",
    "import pymysql"
   ]
  },
  {
   "cell_type": "code",
   "execution_count": 2,
   "metadata": {},
   "outputs": [],
   "source": [
    "def merge(cfs):\n",
    "    d = {}\n",
    "    for cf in cfs:\n",
    "        for v1,v2,w in cf:\n",
    "            if (v1,v2) in d:\n",
    "                d[(v1,v2)] += w\n",
    "            else:\n",
    "                d[(v1,v2)] = w\n",
    "    result = []\n",
    "    for v1,v2 in d.keys():\n",
    "        result.append([v1,v2,d[(v1,v2)]])\n",
    "    return result"
   ]
  },
  {
   "cell_type": "code",
   "execution_count": 3,
   "metadata": {},
   "outputs": [],
   "source": [
    "conn = pymysql.connect(\n",
    "    host = '219.224.169.45',\n",
    "    user = 'lizimeng',\n",
    "    password = 'codegeass',\n",
    "    db = 'capital_flow',\n",
    "    charset = 'utf8'\n",
    ")\n",
    "\n",
    "with conn.cursor() as cursor:\n",
    "    whole = []\n",
    "    institution = []\n",
    "    individual = []\n",
    "    momentum = []\n",
    "    reverse = []\n",
    "    \n",
    "    cursor.execute(\"select day from market.trade_day where day between '20140101' and '20161231' \\\n",
    "    order by day asc\")\n",
    "    days = [x for x, in cursor.fetchall()]\n",
    "    \n",
    "    for day in days[1:]:\n",
    "        # whole\n",
    "        cursor.execute(\"select cf from basic where date=%s\", day)\n",
    "        whole.append(merge([json.loads(cf) for cf, in cursor.fetchall()]))\n",
    "        \n",
    "        # institution\n",
    "        cursor.execute(\"select cf from basic where date=%s and account in (select account from investor.zhanghu where account_head_type='3')\", day)\n",
    "        institution.append(merge([json.loads(cf) for cf, in cursor.fetchall()]))\n",
    "        \n",
    "        # individual\n",
    "        cursor.execute(\"select cf from basic where date=%s and account in (select account from investor.zhanghu where account_head_type='0')\", day)\n",
    "        individual.append(merge([json.loads(cf) for cf, in cursor.fetchall()]))\n",
    "        \n",
    "        # momentum\n",
    "        cursor.execute(\"select cf from basic where date=%s and account in (select account from traderType.exp1 where coef>0 and p<=0.1)\", day)\n",
    "        momentum.append(merge([json.loads(cf) for cf, in cursor.fetchall()]))\n",
    "        \n",
    "        # reverse\n",
    "        cursor.execute(\"select cf from basic where date=%s and account in (select account from traderType.exp1 where coef<0 and p<=0.1)\", day)\n",
    "        reverse.append(merge([json.loads(cf) for cf, in cursor.fetchall()]))\n",
    "    \n",
    "    for fname,data in (('whole',whole), ('institution',institution), ('individual',individual), ('momentum',momentum), ('reverse',reverse)):\n",
    "        with open(fname,'wb') as f:\n",
    "            pickle.dump(data, f)\n",
    "    \n",
    "conn.close()\n"
   ]
  },
  {
   "cell_type": "code",
   "execution_count": null,
   "metadata": {},
   "outputs": [],
   "source": []
  }
 ],
 "metadata": {
  "kernelspec": {
   "display_name": "Python 3",
   "language": "python",
   "name": "python3"
  },
  "language_info": {
   "codemirror_mode": {
    "name": "ipython",
    "version": 3
   },
   "file_extension": ".py",
   "mimetype": "text/x-python",
   "name": "python",
   "nbconvert_exporter": "python",
   "pygments_lexer": "ipython3",
   "version": "3.6.4"
  },
  "toc": {
   "nav_menu": {},
   "number_sections": true,
   "sideBar": true,
   "skip_h1_title": false,
   "toc_cell": false,
   "toc_position": {},
   "toc_section_display": "block",
   "toc_window_display": false
  }
 },
 "nbformat": 4,
 "nbformat_minor": 2
}
