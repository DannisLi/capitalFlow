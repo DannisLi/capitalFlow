{
 "cells": [
  {
   "cell_type": "code",
   "execution_count": 1,
   "metadata": {},
   "outputs": [
    {
     "ename": "FileNotFoundError",
     "evalue": "[Errno 2] No such file or directory: './NTF/format.decompose'",
     "output_type": "error",
     "traceback": [
      "\u001b[0;31m---------------------------------------------------------------------------\u001b[0m",
      "\u001b[0;31mFileNotFoundError\u001b[0m                         Traceback (most recent call last)",
      "\u001b[0;32m<ipython-input-1-15842503865b>\u001b[0m in \u001b[0;36m<module>\u001b[0;34m()\u001b[0m\n\u001b[1;32m     62\u001b[0m     \u001b[0;32mreturn\u001b[0m \u001b[0mmath\u001b[0m\u001b[0;34m.\u001b[0m\u001b[0msqrt\u001b[0m\u001b[0;34m(\u001b[0m\u001b[0mnp\u001b[0m\u001b[0;34m.\u001b[0m\u001b[0mmean\u001b[0m\u001b[0;34m(\u001b[0m\u001b[0;34m(\u001b[0m\u001b[0mCF\u001b[0m \u001b[0;34m-\u001b[0m \u001b[0m_CF\u001b[0m\u001b[0;34m)\u001b[0m\u001b[0;34m**\u001b[0m\u001b[0;36m2\u001b[0m\u001b[0;34m)\u001b[0m\u001b[0;34m)\u001b[0m\u001b[0;34m\u001b[0m\u001b[0m\n\u001b[1;32m     63\u001b[0m \u001b[0;34m\u001b[0m\u001b[0m\n\u001b[0;32m---> 64\u001b[0;31m \u001b[0mdata\u001b[0m \u001b[0;34m=\u001b[0m \u001b[0mdecompose\u001b[0m\u001b[0;34m(\u001b[0m\u001b[0;34m[\u001b[0m\u001b[0mI\u001b[0m\u001b[0;34m,\u001b[0m\u001b[0mJ\u001b[0m\u001b[0;34m,\u001b[0m\u001b[0mK\u001b[0m\u001b[0;34m]\u001b[0m\u001b[0;34m,\u001b[0m\u001b[0;34m[\u001b[0m\u001b[0;36m0.0001\u001b[0m\u001b[0;34m]\u001b[0m\u001b[0;34m*\u001b[0m\u001b[0;36m4\u001b[0m\u001b[0;34m)\u001b[0m\u001b[0;34m\u001b[0m\u001b[0m\n\u001b[0m\u001b[1;32m     65\u001b[0m \u001b[0;34m\u001b[0m\u001b[0m\n\u001b[1;32m     66\u001b[0m \u001b[0mprint\u001b[0m \u001b[0;34m(\u001b[0m\u001b[0mnp\u001b[0m\u001b[0;34m.\u001b[0m\u001b[0mmean\u001b[0m\u001b[0;34m(\u001b[0m\u001b[0mCF\u001b[0m\u001b[0;34m)\u001b[0m\u001b[0;34m)\u001b[0m\u001b[0;34m\u001b[0m\u001b[0m\n",
      "\u001b[0;32m<ipython-input-1-15842503865b>\u001b[0m in \u001b[0;36mdecompose\u001b[0;34m(coreNway, lam, no)\u001b[0m\n\u001b[1;32m     34\u001b[0m     \u001b[0mfuncfile\u001b[0m \u001b[0;34m=\u001b[0m \u001b[0;34m'decompose%d'\u001b[0m \u001b[0;34m%\u001b[0m \u001b[0mno\u001b[0m\u001b[0;34m\u001b[0m\u001b[0m\n\u001b[1;32m     35\u001b[0m \u001b[0;34m\u001b[0m\u001b[0m\n\u001b[0;32m---> 36\u001b[0;31m     \u001b[0;32mwith\u001b[0m \u001b[0mopen\u001b[0m\u001b[0;34m(\u001b[0m\u001b[0;34m'./NTF/format.decompose'\u001b[0m\u001b[0;34m,\u001b[0m \u001b[0;34m'r'\u001b[0m\u001b[0;34m)\u001b[0m \u001b[0;32mas\u001b[0m \u001b[0mf\u001b[0m\u001b[0;34m:\u001b[0m\u001b[0;34m\u001b[0m\u001b[0m\n\u001b[0m\u001b[1;32m     37\u001b[0m         \u001b[0mcontent\u001b[0m \u001b[0;34m=\u001b[0m \u001b[0mf\u001b[0m\u001b[0;34m.\u001b[0m\u001b[0mread\u001b[0m\u001b[0;34m(\u001b[0m\u001b[0;34m)\u001b[0m\u001b[0;34m\u001b[0m\u001b[0m\n\u001b[1;32m     38\u001b[0m         \u001b[0mcontent\u001b[0m \u001b[0;34m=\u001b[0m \u001b[0mcontent\u001b[0m \u001b[0;34m%\u001b[0m \u001b[0;34m(\u001b[0m\u001b[0mno\u001b[0m\u001b[0;34m,\u001b[0m \u001b[0mCF_file\u001b[0m\u001b[0;34m,\u001b[0m \u001b[0moutfile\u001b[0m\u001b[0;34m)\u001b[0m\u001b[0;34m\u001b[0m\u001b[0m\n",
      "\u001b[0;31mFileNotFoundError\u001b[0m: [Errno 2] No such file or directory: './NTF/format.decompose'"
     ]
    }
   ],
   "source": [
    "%matplotlib inline\n",
    "import os\n",
    "import math\n",
    "import matplotlib.pyplot as plt\n",
    "import numpy as np\n",
    "import scipy.io as scio\n",
    "import pandas as pd\n",
    "\n",
    "cols = [\n",
    "    'am', 'agm', 'alm', 'apm', 'aum', 'bm', 'bbm', 'bum', 'cm', 'cfm', 'csm', 'cum', 'cym', 'erm', 'fbm', 'fgm', 'fum', 'hcm', \n",
    "    'im', 'jm', 'jdm', 'jmm', 'jrm', 'lm', 'lrm', 'mm', 'mam', 'mem', 'nim', 'oim', 'pm', 'pbm', 'pmm', 'ppm', 'rbm', 'rim', \n",
    "    'rmm', 'rom', 'rsm', 'rum', 'sfm', 'smm', 'snm', 'srm', 'tam', 'tcm', 'vm', 'whm', 'wrm', 'wsm', 'ym', 'zcm', 'znm', 'ap', \n",
    "    'agp', 'alp', 'app', 'aup', 'bp', 'bbp', 'bup', 'cp', 'cfp', 'csp', 'cup', 'cyp', 'erp', 'fbp', 'fgp', 'fup', 'hcp', 'ip', \n",
    "    'jp', 'jdp', 'jmp', 'jrp', 'lp', 'lrp', 'mp', 'map', 'mep', 'nip', 'oip', 'pp', 'pbp', 'pmp', 'ppp', 'rbp', 'rip', 'rmp', \n",
    "    'rop', 'rsp', 'rup', 'sfp', 'smp', 'snp', 'srp', 'tap', 'tcp', 'vp', 'whp', 'wrp', 'wsp', 'yp', 'zcp', 'znp', 'fund'\n",
    "]\n",
    "\n",
    "vari2name = {\n",
    "    'a': '豆一', 'ag': '沪银', 'al': '沪铝', 'ap': '苹果', 'au': '沪金', 'b': '豆二', 'bb': '胶合板', 'bu': '沥青', 'c': '玉米', \n",
    "    'cf': '郑棉', 'cs': '玉米淀粉', 'cu': '沪铜', 'cy': '棉纱', 'er': '早籼稻(ER)', 'fb': '纤维板', 'fg': '玻璃', 'fu': '燃油', \n",
    "    'hc': '热轧卷板', 'i': '铁矿石', 'j': '焦炭', 'jd': '鸡蛋', 'jm': '焦煤', 'jr': '粳稻', 'l': '塑料', 'lr': '晚籼稻', 'm': '豆粕', \n",
    "    'ma': '甲醇(MA)', 'me': '甲醇(ME)', 'ni': '沪镍', 'oi': '菜油(OI)', 'p': '棕榈油', 'pb': '沪铅', 'pm': '普麦', 'pp': '聚丙烯', \n",
    "    'rb': '螺纹钢', 'ri': '早籼稻(RI)', 'rm': '菜粕', 'ro': '菜油(RO)', 'rs': '菜籽', 'ru': '橡胶', 'sf': '硅铁', 'sm': '锰硅', \n",
    "    'sn': '沪锡', 'sr': '白糖', 'ta': 'PTA', 'tc': '动力煤(TC)', 'v': 'PVC', 'wh': '强麦(WH)', 'wr': '线材', \n",
    "    'ws': '强麦(WS)', 'y': '豆油', 'zc': '动力煤(ZC)', 'zn': '沪锌'\n",
    "}\n",
    "\n",
    "I,J,K = 10,10,4\n",
    "CF_file = 'whole_month_log'\n",
    "CF = scio.loadmat('./NTF/%s.mat' % CF_file)['M']\n",
    "\n",
    "def decompose(coreNway, lam, no=0):\n",
    "    outfile = 'out%d' % no\n",
    "    funcfile = 'decompose%d' % no\n",
    "    \n",
    "    with open('./NTF/format.decompose', 'r') as f:\n",
    "        content = f.read()\n",
    "        content = content % (no, CF_file, outfile)\n",
    "    \n",
    "    with open('./NTF/%s.m' % funcfile, 'w') as f:\n",
    "        f.write(content)\n",
    "    \n",
    "    os.system('matlab -r \"cd NTF;decompose%d([%d,%d,%d],[%f,%f,%f,%f])\";exit;' % \n",
    "              tuple([no] + coreNway + lam))\n",
    "    try:\n",
    "        data = scio.loadmat('./NTF/%s.mat' % outfile)\n",
    "        os.remove('./NTF/%s.mat' % outfile)\n",
    "    except:\n",
    "        # 这种情况可能是分解失败\n",
    "        data = None\n",
    "    \n",
    "    os.remove('./NTF/%s.m' % funcfile)\n",
    "    \n",
    "    return data\n",
    "\n",
    "def RMSE(data):\n",
    "    O = data['O']\n",
    "    D = data['D']\n",
    "    T = data['T']\n",
    "    C = data['C']\n",
    "    _CF = np.einsum('ijk,pi,qj,rk->pqr', C, O, D, T)\n",
    "    return math.sqrt(np.mean((CF - _CF)**2))\n",
    "\n",
    "data = decompose([I,J,K],[0.0001]*4)\n",
    "\n",
    "print (np.mean(CF))\n",
    "print (RMSE(data))\n",
    "\n",
    "O = data['O']\n",
    "D = data['D']\n",
    "T = data['T']\n",
    "C = data['C']"
   ]
  },
  {
   "cell_type": "markdown",
   "metadata": {},
   "source": [
    "# 月份模式"
   ]
  },
  {
   "cell_type": "code",
   "execution_count": null,
   "metadata": {
    "scrolled": false
   },
   "outputs": [],
   "source": [
    "plt.figure(figsize=(18,10))\n",
    "for i in range(K):\n",
    "    plt.plot(T[:,i], label='pattern %d'%(i))\n",
    "plt.legend()\n",
    "plt.show()"
   ]
  },
  {
   "cell_type": "markdown",
   "metadata": {},
   "source": [
    "# 源模式"
   ]
  },
  {
   "cell_type": "code",
   "execution_count": null,
   "metadata": {
    "scrolled": false
   },
   "outputs": [],
   "source": [
    "data = [{'margin':[], 'profit':[], 'fund':[]} for i in range(I)]\n",
    "for i in range(107):\n",
    "    t = max(O[i])\n",
    "    t = O[i].tolist().index(t)\n",
    "    if cols[i][-1]=='m':\n",
    "        data[t]['margin'].append(vari2name[cols[i][:-1]])\n",
    "    elif cols[i][-1]=='p':\n",
    "        data[t]['profit'].append(vari2name[cols[i][:-1]])\n",
    "    else:\n",
    "        data[t]['fund'].append('fund')\n",
    "df = pd.DataFrame(data)\n",
    "df"
   ]
  },
  {
   "cell_type": "markdown",
   "metadata": {},
   "source": [
    "# 目的模式"
   ]
  },
  {
   "cell_type": "code",
   "execution_count": null,
   "metadata": {},
   "outputs": [],
   "source": [
    "data = [{'margin':[], 'profit':[], 'fund':[]} for i in range(J)]\n",
    "for i in range(107):\n",
    "    t = max(D[i])\n",
    "    t = D[i].tolist().index(t)\n",
    "    if cols[i][-1]=='m':\n",
    "        data[t]['margin'].append(vari2name[cols[i][:-1]])\n",
    "    elif cols[i][-1]=='p':\n",
    "        data[t]['profit'].append(vari2name[cols[i][:-1]])\n",
    "    else:\n",
    "        data[t]['fund'].append('fund')\n",
    "df = pd.DataFrame(data)\n",
    "df"
   ]
  },
  {
   "cell_type": "markdown",
   "metadata": {},
   "source": [
    "# 核张量"
   ]
  },
  {
   "cell_type": "code",
   "execution_count": null,
   "metadata": {
    "scrolled": true
   },
   "outputs": [],
   "source": [
    "fig,ax = plt.subplots(nrows=K,ncols=1,figsize=(20,20))\n",
    "for i in range(K):\n",
    "    ax[i].matshow(C[:,:,i], cmap='gray')"
   ]
  },
  {
   "cell_type": "markdown",
   "metadata": {},
   "source": [
    "加同大类、同市场的约束，类似POI的约束"
   ]
  },
  {
   "cell_type": "code",
   "execution_count": null,
   "metadata": {},
   "outputs": [],
   "source": [
    "from pymatbridge import Matlab\n",
    "help(Matlab.run_func)"
   ]
  },
  {
   "cell_type": "code",
   "execution_count": null,
   "metadata": {},
   "outputs": [],
   "source": []
  }
 ],
 "metadata": {
  "kernelspec": {
   "display_name": "Python 3",
   "language": "python",
   "name": "python3"
  },
  "language_info": {
   "codemirror_mode": {
    "name": "ipython",
    "version": 3
   },
   "file_extension": ".py",
   "mimetype": "text/x-python",
   "name": "python",
   "nbconvert_exporter": "python",
   "pygments_lexer": "ipython3",
   "version": "3.6.4"
  },
  "toc": {
   "nav_menu": {},
   "number_sections": true,
   "sideBar": true,
   "skip_h1_title": false,
   "toc_cell": false,
   "toc_position": {},
   "toc_section_display": "block",
   "toc_window_display": false
  }
 },
 "nbformat": 4,
 "nbformat_minor": 2
}
