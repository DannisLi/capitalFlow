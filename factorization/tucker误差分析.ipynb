{
 "cells": [
  {
   "cell_type": "code",
   "execution_count": 1,
   "metadata": {
    "scrolled": true
   },
   "outputs": [
    {
     "name": "stderr",
     "output_type": "stream",
     "text": [
      "/home/lizimeng/python/lib/python3.6/site-packages/IPython/nbformat.py:13: ShimWarning: The `IPython.nbformat` package has been deprecated since IPython 4.0. You should import from nbformat instead.\n",
      "  \"You should import from nbformat instead.\", ShimWarning)\n"
     ]
    }
   ],
   "source": [
    "%matplotlib inline\n",
    "from cf import CF\n",
    "import matplotlib.pyplot as plt\n",
    "import numpy as np\n",
    "import pickle, math\n",
    "\n",
    "items = [\n",
    "    'a', 'ag', 'al', 'au', 'b', 'bb', 'bu', 'c', 'cf', 'cu', 'fb', 'fg', 'fu', 'i', \n",
    "    'if', 'j', 'jd', 'jm', 'jr', 'l', 'm', 'me', 'oi', 'p', 'pb', 'pm', 'rb', 'ri', \n",
    "    'rm', 'rs', 'ru', 'sr', 'ta', 'tc', 'tf', 'v', 'wh', 'wr', 'y', 'zn', 'fund'\n",
    "]\n",
    "\n",
    "item2name = {\n",
    "    'a': '豆一', 'ag': '沪银', 'al': '沪铝', 'au': '沪金', 'b': '豆二', 'bb': '胶合板', 'bu': '沥青', 'c': '玉米', \n",
    "    'cf': '郑棉', 'cu': '沪铜', 'fb': '纤维板', 'fg': '玻璃', 'fu': '燃油', 'i': '铁矿石', 'j': '焦炭', 'jd': '鸡蛋', \n",
    "    'jm': '焦煤', 'jr': '粳稻', 'l': '塑料', 'lr': '晚籼稻', 'm': '豆粕', 'me': '甲醇', 'ni': '沪镍', 'oi': '菜油', \n",
    "    'p': '棕榈油', 'pb': '沪铅', 'pm': '普麦', 'rb': '螺纹钢', 'ri': '早籼稻', 'rm': '菜粕', 'rs': '菜籽', 'ru': '橡胶', \n",
    "    'sr': '白糖', 'ta': 'PTA', 'tc': '动力煤', 'v': 'PVC', 'wh': '强麦', 'wr': '线材', 'y': '豆油', 'zn': '沪锌', 'fund': 'fund'\n",
    "}\n",
    "\n",
    "cf = CF('../merge/whole_month.data', preprocess=['log10'])"
   ]
  },
  {
   "cell_type": "code",
   "execution_count": 4,
   "metadata": {
    "scrolled": false
   },
   "outputs": [
    {
     "name": "stdout",
     "output_type": "stream",
     "text": [
      "Starting MATLAB on ZMQ socket ipc:///tmp/pymatbridge-769d49a8-768d-4fa2-bb2e-6abcd1144213\n",
      "Send 'exit' command to kill the server\n",
      "...MATLAB started and connected!\n",
      "MATLAB closed\n",
      "0.310766592149\n",
      "(0.54560340260130025, 0.53860250326548675, 0.43540643912394683, 0.49457314002027064)\n"
     ]
    }
   ],
   "source": [
    "res = cf.tucker([10,10,6], [2,2,4,2])\n",
    "print (res.RRMSE)\n",
    "print (res.sparseness)\n",
    "err = (res.R-res.R_hat) / (res.R + np.ones(res.R.shape)/10**3)\n",
    "err_sorted = err.reshape((-1,))\n",
    "err_sorted.sort()"
   ]
  },
  {
   "cell_type": "markdown",
   "metadata": {},
   "source": [
    "# 误差的分布\n",
    "\n",
    "## 柱状图"
   ]
  },
  {
   "cell_type": "code",
   "execution_count": 5,
   "metadata": {},
   "outputs": [
    {
     "data": {
      "image/png": "[encoded data removed]",
      "text/plain": [
       "<matplotlib.figure.Figure at 0x7f413c5bab00>"
      ]
     },
     "metadata": {},
     "output_type": "display_data"
    }
   ],
   "source": [
    "plt.figure(figsize=(20,8))\n",
    "plt.hist(err_sorted, bins=20, normed=True)\n",
    "plt.xlabel('error')\n",
    "plt.show()"
   ]
  },
  {
   "cell_type": "markdown",
   "metadata": {},
   "source": [
    "## 累计分布函数"
   ]
  },
  {
   "cell_type": "code",
   "execution_count": null,
   "metadata": {},
   "outputs": [],
   "source": [
    "X = []\n",
    "Y = []\n",
    "for i in range(0,len(err_sorted),80):\n",
    "    x = err_sorted[i]\n",
    "    X.append(x)\n",
    "    Y.append(i / len(err_sorted))\n",
    "plt.figure(figsize=(20,8))\n",
    "plt.plot(X,Y)\n",
    "plt.show()"
   ]
  },
  {
   "cell_type": "code",
   "execution_count": null,
   "metadata": {},
   "outputs": [],
   "source": [
    "plt.figure(figsize=(20,8))\n",
    "plt.plot(X[-450:-60],Y[-450:-60])\n",
    "plt.grid()\n",
    "plt.xlabel('error')\n",
    "plt.show()"
   ]
  },
  {
   "cell_type": "markdown",
   "metadata": {},
   "source": [
    "## 柱状图（$error \\in [-5, +\\infty)$）"
   ]
  },
  {
   "cell_type": "code",
   "execution_count": null,
   "metadata": {},
   "outputs": [],
   "source": [
    "tmp = []\n",
    "for e in _err:\n",
    "    if e>=-5:\n",
    "        tmp.append(e)\n",
    "plt.figure(figsize=(20,8))\n",
    "plt.hist(tmp, bins=20, normed=True)\n",
    "plt.show()"
   ]
  },
  {
   "cell_type": "markdown",
   "metadata": {},
   "source": [
    "# 误差从小到大排序"
   ]
  },
  {
   "cell_type": "code",
   "execution_count": null,
   "metadata": {},
   "outputs": [],
   "source": [
    "plt.figure(figsize=(20,8))\n",
    "plt.plot(err_sorted)\n",
    "plt.ylabel('error')\n",
    "plt.show()"
   ]
  },
  {
   "cell_type": "markdown",
   "metadata": {},
   "source": [
    "# 误差从小到大排序（只看最小的6000个）"
   ]
  },
  {
   "cell_type": "code",
   "execution_count": null,
   "metadata": {},
   "outputs": [],
   "source": [
    "plt.figure(figsize=(20,8))\n",
    "plt.plot(err_sorted[:6000])\n",
    "plt.show()"
   ]
  },
  {
   "cell_type": "markdown",
   "metadata": {},
   "source": [
    "# 误差最大（绝对值）的500个，是那些？"
   ]
  },
  {
   "cell_type": "code",
   "execution_count": null,
   "metadata": {},
   "outputs": [],
   "source": [
    "tmp = np.abs(err_sorted)\n",
    "tmp.sort()\n",
    "threshold = tmp[-500]\n",
    "tmp = []\n",
    "M,N = 41,36\n",
    "for i in range(M):\n",
    "    for j in range(M):\n",
    "        for k in range(N):\n",
    "            if abs(err[i,j,k])>= threshold:\n",
    "                tmp.append([i,j,k])\n",
    "print (tmp)"
   ]
  },
  {
   "cell_type": "markdown",
   "metadata": {},
   "source": [
    "# 压缩时间维度，看误差在品种间的分布"
   ]
  },
  {
   "cell_type": "code",
   "execution_count": null,
   "metadata": {},
   "outputs": [],
   "source": [
    "tmp = np.mean(np.abs(err), axis=2)\n",
    "#tmp = (tmp - np.min(tmp)) / (np.max(tmp)-np.min(tmp))\n",
    "fig,ax = plt.subplots(figsize=(10,10))\n",
    "ax.matshow(tmp, cmap='gray')\n",
    "plt.show()"
   ]
  },
  {
   "cell_type": "code",
   "execution_count": null,
   "metadata": {},
   "outputs": [],
   "source": [
    "np.log10(np.array(range(1,10)))"
   ]
  },
  {
   "cell_type": "code",
   "execution_count": null,
   "metadata": {},
   "outputs": [],
   "source": []
  }
 ],
 "metadata": {
  "kernelspec": {
   "display_name": "Python 3",
   "language": "python",
   "name": "python3"
  },
  "language_info": {
   "codemirror_mode": {
    "name": "ipython",
    "version": 3
   },
   "file_extension": ".py",
   "mimetype": "text/x-python",
   "name": "python",
   "nbconvert_exporter": "python",
   "pygments_lexer": "ipython3",
   "version": "3.6.4"
  },
  "toc": {
   "nav_menu": {},
   "number_sections": true,
   "sideBar": true,
   "skip_h1_title": false,
   "toc_cell": false,
   "toc_position": {},
   "toc_section_display": "block",
   "toc_window_display": false
  }
 },
 "nbformat": 4,
 "nbformat_minor": 2
}
